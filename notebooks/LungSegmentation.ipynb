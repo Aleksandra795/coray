{
 "cells": [
  {
   "cell_type": "code",
   "execution_count": 1,
   "metadata": {},
   "outputs": [
    {
     "name": "stderr",
     "output_type": "stream",
     "text": [
      "Using TensorFlow backend.\n"
     ]
    }
   ],
   "source": [
    "import pandas as pd\n",
    "import numpy as np\n",
    "import matplotlib.pyplot as plt\n",
    "import os\n",
    "import random\n",
    "import shutil\n",
    "from keras import applications\n",
    "from keras.preprocessing.image import ImageDataGenerator, array_to_img, img_to_array, load_img\n",
    "import cv2\n",
    "from keras.layers import Input, Conv2D, MaxPooling2D, Dropout, BatchNormalization, Activation\n",
    "from keras.regularizers import l2\n",
    "from tqdm import tqdm_notebook\n",
    "from keras.layers import Conv2DTranspose\n",
    "from keras.layers.merge import concatenate, add\n",
    "from keras.models import Model\n",
    "from keras.optimizers import Adam\n",
    "from keras.callbacks import EarlyStopping, ModelCheckpoint, ReduceLROnPlateau\n",
    "from skimage.transform import resize\n",
    "from keras import backend as keras"
   ]
  },
  {
   "cell_type": "code",
   "execution_count": null,
   "metadata": {},
   "outputs": [],
   "source": [
    "data_path = \"C:\\Users\\Wojtek\\Documents\\Doktorat\\xrays\\kaggle_xrays\\chest-xray-masks-and-labels\\data\\Lung Segmentation\""
   ]
  },
  {
   "cell_type": "code",
   "execution_count": 13,
   "metadata": {},
   "outputs": [],
   "source": [
    "import tensorflow as tf\n",
    "\n",
    "\n",
    "IMG_WIDTH = 512\n",
    "IMG_HEIGHT = 512\n",
    "\n",
    "BATCH_SIZE = 8\n",
    "\n",
    "DATA_PATH = \"C:\\\\Users\\\\Wojtek\\\\Documents\\\\Deep Learning Projects\\\\Chest_Xray\\\\dataset\\\\MontgomerySet\"\n",
    "CXR_PNG = os.path.join(DATA_PATH, 'CXR_png')\n",
    "\n",
    "FRAME_PATH = os.path.join(DATA_PATH, \"images_grayscale\")\n",
    "LEFT_MASK_PATH = os.path.join(DATA_PATH, \"ManualMask\\\\leftMask\")\n",
    "RIGHT_MASK_PATH = os.path.join(DATA_PATH, \"ManualMask\\\\rightMask\")\n",
    "\n",
    "TRAIN_FRAME_PATH = os.path.join(DATA_PATH, 'train_frames')\n",
    "TRAIN_MASK_PATH = os.path.join(DATA_PATH, 'train_masks')\n",
    "TEST_FRAME_PATH = os.path.join(DATA_PATH, 'test_frames')\n",
    "TEST_MASK_PATH = os.path.join(DATA_PATH, 'test_masks')\n",
    "\n",
    "#tf.enable_eager_execution()"
   ]
  },
  {
   "cell_type": "code",
   "execution_count": 14,
   "metadata": {},
   "outputs": [],
   "source": [
    "def mergeMasks():\n",
    "    \n",
    "    cases = [[TRAIN_FRAME_PATH, TRAIN_MASK_PATH], [TEST_FRAME_PATH, TEST_MASK_PATH]]\n",
    "    \n",
    "    for case in cases:\n",
    "        for file in os.listdir(case[0]):\n",
    "            left_mask = cv2.imread(os.path.join(LEFT_MASK_PATH, file), cv2.IMREAD_GRAYSCALE)\n",
    "            right_mask = cv2.imread(os.path.join(RIGHT_MASK_PATH, file), cv2.IMREAD_GRAYSCALE)\n",
    "\n",
    "            left_mask = cv2.resize(left_mask, (IMG_WIDTH, IMG_HEIGHT))\n",
    "            right_mask = cv2.resize(right_mask, (IMG_WIDTH, IMG_HEIGHT))\n",
    "\n",
    "            merged = np.maximum(left_mask, right_mask)\n",
    "            cv2.imwrite(os.path.join(case[1], file), merged)\n",
    "        \n",
    "def initDataForTraining():\n",
    "\n",
    "    folders = ['train_frames', 'train_masks', 'val_frames', 'val_masks', 'test_frames', 'test_masks']\n",
    "    \n",
    "    for folder in folders:\n",
    "        if(not os.path.exists(os.path.join(DATA_PATH, folder))):\n",
    "            os.makedirs(os.path.join(DATA_PATH, folder))\n",
    "    \n",
    "    all_frames = os.listdir(FRAME_PATH)\n",
    "    random.shuffle(all_frames)\n",
    "    split = int(0.7*len(all_frames))\n",
    "\n",
    "    train = all_frames[:split]\n",
    "    test = all_frames[split:]\n",
    "    \n",
    "    if(os.listdir(os.path.join(DATA_PATH, 'train_frames')) == []):\n",
    "        for fileName in train:\n",
    "            shutil.copy(os.path.join(FRAME_PATH, fileName), os.path.join(DATA_PATH, 'train_frames'))\n",
    "            shutil.copy(os.path.join(LEFT_MASK_PATH, fileName), os.path.join(DATA_PATH, 'train_masks'))\n",
    "\n",
    "        for fileName in test:\n",
    "            shutil.copy(os.path.join(FRAME_PATH, fileName), os.path.join(DATA_PATH, 'test_frames'))\n",
    "            shutil.copy(os.path.join(LEFT_MASK_PATH, fileName), os.path.join(DATA_PATH, 'test_masks'))\n",
    "        \n",
    "def getRandomImagePathFrom(path):\n",
    "    return os.path.join(path, os.listdir(path)[np.random.randint(0, high=len(os.listdir(TRAIN_FRAME_PATH))-1)])"
   ]
  },
  {
   "cell_type": "code",
   "execution_count": 15,
   "metadata": {},
   "outputs": [],
   "source": [
    "initDataForTraining()"
   ]
  },
  {
   "cell_type": "code",
   "execution_count": 16,
   "metadata": {},
   "outputs": [],
   "source": [
    "def loadTrainData():\n",
    "    X = []\n",
    "    Y = []\n",
    "    files = os.listdir(trainFramePath)\n",
    "    for file in files:\n",
    "        imgX = img_to_array(load_img(os.path.join(trainFramePath, file)))\n",
    "        imgY = img_to_array(load_img(os.path.join(TRAIN_MASK_PATH, file)))\n",
    "\n",
    "        X.append(imgX/255.)\n",
    "        Y.append(imgY/255.)\n",
    "\n",
    "    return X, Y"
   ]
  },
  {
   "cell_type": "code",
   "execution_count": 17,
   "metadata": {},
   "outputs": [],
   "source": [
    "\n",
    "def loadTrainData():\n",
    "    imageNames = [f for f in os.listdir(trainFramePath)]\n",
    "    X = []\n",
    "    Y = []\n",
    "    for index, imgName in enumerate(imageNames):\n",
    "        framePath = os.path.join(trainFramePath, imgName)\n",
    "        maskPath = os.path.join(TRAIN_MASK_PATH, imgName)\n",
    "        imageX = cv2.imread(framePath, cv2.IMREAD_COLOR)\n",
    "        imageX = cv2.resize(imageX, (IMG_WIDTH, IMG_HEIGHT))\n",
    "        imageX = cv2.cvtColor(imageX, cv2.COLOR_BGR2RGB)\n",
    "        imageY = cv2.imread(maskPath, cv2.IMREAD_COLOR)\n",
    "        imageY = cv2.resize(imageY, (IMG_WIDTH, IMG_HEIGHT))\n",
    "        imageY = cv2.cvtColor(imageY, cv2.COLOR_BGR2RGB)\n",
    "        X.append(imageX)\n",
    "        Y.append(imageY)\n",
    "    return X, Y"
   ]
  },
  {
   "cell_type": "code",
   "execution_count": 21,
   "metadata": {},
   "outputs": [],
   "source": [
    "greyPath = 'C:\\\\Users\\\\Wojtek\\\\Documents\\\\Deep Learning Projects\\\\Chest_Xray\\\\dataset\\\\MontgomerySet\\\\images_grayscale'"
   ]
  },
  {
   "cell_type": "code",
   "execution_count": 22,
   "metadata": {},
   "outputs": [
    {
     "name": "stdout",
     "output_type": "stream",
     "text": [
      "(4020, 4892, 1)\n",
      "(4020, 4892, 1)\n",
      "(4892, 4020, 1)\n",
      "(4892, 4020, 1)\n",
      "(4892, 4020, 1)\n",
      "(4020, 4892, 1)\n",
      "(4892, 4020, 1)\n",
      "(4892, 4020, 1)\n",
      "(4020, 4892, 1)\n",
      "(4020, 4892, 1)\n",
      "(4020, 4892, 1)\n",
      "(4020, 4892, 1)\n",
      "(4892, 4020, 1)\n",
      "(4020, 4892, 1)\n",
      "(4892, 4020, 1)\n",
      "(4020, 4892, 1)\n",
      "(4020, 4892, 1)\n",
      "(4892, 4020, 1)\n",
      "(4892, 4020, 1)\n",
      "(4892, 4020, 1)\n",
      "(4892, 4020, 1)\n",
      "(4892, 4020, 1)\n",
      "(4020, 4892, 1)\n",
      "(4020, 4892, 1)\n",
      "(4892, 4020, 1)\n",
      "(4892, 4020, 1)\n",
      "(4892, 4020, 1)\n",
      "(4020, 4892, 1)\n",
      "(4020, 4892, 1)\n",
      "(4020, 4892, 1)\n",
      "(4892, 4020, 1)\n",
      "(4020, 4892, 1)\n",
      "(4892, 4020, 1)\n",
      "(4892, 4020, 1)\n",
      "(4892, 4020, 1)\n",
      "(4892, 4020, 1)\n",
      "(4892, 4020, 1)\n",
      "(4892, 4020, 1)\n",
      "(4892, 4020, 1)\n",
      "(4892, 4020, 1)\n",
      "(4892, 4020, 1)\n",
      "(4892, 4020, 1)\n",
      "(4892, 4020, 1)\n",
      "(4892, 4020, 1)\n",
      "(4892, 4020, 1)\n",
      "(4020, 4892, 1)\n",
      "(4020, 4892, 1)\n",
      "(4892, 4020, 1)\n",
      "(4892, 4020, 1)\n",
      "(4892, 4020, 1)\n",
      "(4892, 4020, 1)\n",
      "(4892, 4020, 1)\n",
      "(4892, 4020, 1)\n",
      "(4892, 4020, 1)\n",
      "(4892, 4020, 1)\n",
      "(4892, 4020, 1)\n",
      "(4892, 4020, 1)\n",
      "(4020, 4892, 1)\n",
      "(4020, 4892, 1)\n",
      "(4020, 4892, 1)\n",
      "(4892, 4020, 1)\n",
      "(4892, 4020, 1)\n",
      "(4020, 4892, 1)\n",
      "(4020, 4892, 1)\n",
      "(4892, 4020, 1)\n",
      "(4892, 4020, 1)\n",
      "(4892, 4020, 1)\n",
      "(4020, 4892, 1)\n",
      "(4020, 4892, 1)\n",
      "(4892, 4020, 1)\n",
      "(4020, 4892, 1)\n",
      "(4892, 4020, 1)\n",
      "(4020, 4892, 1)\n",
      "(4892, 4020, 1)\n",
      "(4892, 4020, 1)\n",
      "(4892, 4020, 1)\n",
      "(4892, 4020, 1)\n",
      "(4892, 4020, 1)\n",
      "(4020, 4892, 1)\n",
      "(4020, 4892, 1)\n",
      "(4892, 4020, 1)\n",
      "(4892, 4020, 1)\n",
      "(4892, 4020, 1)\n",
      "(4892, 4020, 1)\n",
      "(4892, 4020, 1)\n",
      "(4020, 4892, 1)\n",
      "(4892, 4020, 1)\n",
      "(4892, 4020, 1)\n",
      "(4892, 4020, 1)\n",
      "(4892, 4020, 1)\n",
      "(4892, 4020, 1)\n",
      "(4892, 4020, 1)\n",
      "(4892, 4020, 1)\n",
      "(4020, 4892, 1)\n",
      "(4020, 4892, 1)\n",
      "(4892, 4020, 1)\n",
      "(4892, 4020, 1)\n",
      "(4892, 4020, 1)\n",
      "(4892, 4020, 1)\n",
      "(4892, 4020, 1)\n",
      "(4892, 4020, 1)\n",
      "(4892, 4020, 1)\n",
      "(4020, 4892, 1)\n",
      "(4892, 4020, 1)\n",
      "(4020, 4892, 1)\n",
      "(4020, 4892, 1)\n",
      "(4892, 4020, 1)\n",
      "(4892, 4020, 1)\n",
      "(4020, 4892, 1)\n",
      "(4892, 4020, 1)\n",
      "(4892, 4020, 1)\n",
      "(4892, 4020, 1)\n",
      "(4892, 4020, 1)\n",
      "(4892, 4020, 1)\n",
      "(4892, 4020, 1)\n",
      "(4892, 4020, 1)\n",
      "(4020, 4892, 1)\n",
      "(4892, 4020, 1)\n",
      "(4892, 4020, 1)\n",
      "(4892, 4020, 1)\n",
      "(4892, 4020, 1)\n",
      "(4020, 4892, 1)\n",
      "(4892, 4020, 1)\n",
      "(4892, 4020, 1)\n",
      "(4020, 4892, 1)\n",
      "(4020, 4892, 1)\n",
      "(4892, 4020, 1)\n",
      "(4020, 4892, 1)\n",
      "(4892, 4020, 1)\n",
      "(4892, 4020, 1)\n",
      "(4892, 4020, 1)\n",
      "(4892, 4020, 1)\n",
      "(4892, 4020, 1)\n",
      "(4892, 4020, 1)\n",
      "(4892, 4020, 1)\n",
      "(4892, 4020, 1)\n",
      "(4892, 4020, 1)\n",
      "(4892, 4020, 1)\n"
     ]
    }
   ],
   "source": [
    "for file in os.listdir(greyPath):\n",
    "    image = cv2.imread(os.path.join(greyPath, file), 0)\n",
    "    image = image[..., np.newaxis]\n",
    "    cv2.imwrite(os.path.join(greyPath, file), image)\n",
    "    print(image.shape)"
   ]
  },
  {
   "cell_type": "code",
   "execution_count": 23,
   "metadata": {},
   "outputs": [],
   "source": [
    "def dice_coef(y_true, y_pred):\n",
    "    y_true_f = keras.flatten(y_true)\n",
    "    y_pred_f = keras.flatten(y_pred)\n",
    "    intersection = keras.sum(y_true_f * y_pred_f)\n",
    "    return (2. * intersection + 1) / (keras.sum(y_true_f) + keras.sum(y_pred_f) + 1)\n",
    "\n",
    "def dice_coef_loss(y_true, y_pred):\n",
    "    return -dice_coef(y_true, y_pred)\n",
    "\n",
    "def unet(input_size=(256,256,1)):\n",
    "    inputs = Input(input_size)\n",
    "    \n",
    "    conv1 = Conv2D(32, (3, 3), activation='relu', padding='same')(inputs)\n",
    "    conv1 = Conv2D(32, (3, 3), activation='relu', padding='same')(conv1)\n",
    "    pool1 = MaxPooling2D(pool_size=(2, 2))(conv1)\n",
    "\n",
    "    conv2 = Conv2D(64, (3, 3), activation='relu', padding='same')(pool1)\n",
    "    conv2 = Conv2D(64, (3, 3), activation='relu', padding='same')(conv2)\n",
    "    pool2 = MaxPooling2D(pool_size=(2, 2))(conv2)\n",
    "\n",
    "    conv3 = Conv2D(128, (3, 3), activation='relu', padding='same')(pool2)\n",
    "    conv3 = Conv2D(128, (3, 3), activation='relu', padding='same')(conv3)\n",
    "    pool3 = MaxPooling2D(pool_size=(2, 2))(conv3)\n",
    "\n",
    "    conv4 = Conv2D(256, (3, 3), activation='relu', padding='same')(pool3)\n",
    "    conv4 = Conv2D(256, (3, 3), activation='relu', padding='same')(conv4)\n",
    "    pool4 = MaxPooling2D(pool_size=(2, 2))(conv4)\n",
    "\n",
    "    conv5 = Conv2D(512, (3, 3), activation='relu', padding='same')(pool4)\n",
    "    conv5 = Conv2D(512, (3, 3), activation='relu', padding='same')(conv5)\n",
    "\n",
    "    up6 = concatenate([Conv2DTranspose(256, (2, 2), strides=(2, 2), padding='same')(conv5), conv4], axis=3)\n",
    "    conv6 = Conv2D(256, (3, 3), activation='relu', padding='same')(up6)\n",
    "    conv6 = Conv2D(256, (3, 3), activation='relu', padding='same')(conv6)\n",
    "\n",
    "    up7 = concatenate([Conv2DTranspose(128, (2, 2), strides=(2, 2), padding='same')(conv6), conv3], axis=3)\n",
    "    conv7 = Conv2D(128, (3, 3), activation='relu', padding='same')(up7)\n",
    "    conv7 = Conv2D(128, (3, 3), activation='relu', padding='same')(conv7)\n",
    "\n",
    "    up8 = concatenate([Conv2DTranspose(64, (2, 2), strides=(2, 2), padding='same')(conv7), conv2], axis=3)\n",
    "    conv8 = Conv2D(64, (3, 3), activation='relu', padding='same')(up8)\n",
    "    conv8 = Conv2D(64, (3, 3), activation='relu', padding='same')(conv8)\n",
    "\n",
    "    up9 = concatenate([Conv2DTranspose(32, (2, 2), strides=(2, 2), padding='same')(conv8), conv1], axis=3)\n",
    "    conv9 = Conv2D(32, (3, 3), activation='relu', padding='same')(up9)\n",
    "    conv9 = Conv2D(32, (3, 3), activation='relu', padding='same')(conv9)\n",
    "\n",
    "    conv10 = Conv2D(1, (1, 1), activation='sigmoid')(conv9)\n",
    "\n",
    "    return Model(inputs=[inputs], outputs=[conv10])"
   ]
  },
  {
   "cell_type": "code",
   "execution_count": 24,
   "metadata": {},
   "outputs": [],
   "source": [
    "def test_load_image(test_file, target_size=(256,256)):\n",
    "    img = cv2.imread(test_file, cv2.IMREAD_GRAYSCALE)\n",
    "    img = img / 255\n",
    "    img = cv2.resize(img, target_size)\n",
    "    img = np.reshape(img, img.shape + (1,))\n",
    "    img = np.reshape(img,(1,) + img.shape)\n",
    "    return img\n",
    "\n",
    "def test_generator(test_files, target_size=(256,256)):\n",
    "    for test_file in test_files:\n",
    "        yield test_load_image(test_file, target_size)\n",
    "        \n",
    "def save_result(save_path, npyfile, test_files):\n",
    "    for i, item in enumerate(npyfile):\n",
    "        result_file = test_files[i]\n",
    "        img = (item[:, :, 0] * 255.).astype(np.uint8)\n",
    "\n",
    "        filename, fileext = os.path.splitext(os.path.basename(result_file))\n",
    "\n",
    "        result_file = os.path.join(save_path, \"%s_predict%s\" % (filename, fileext))\n",
    "\n",
    "        cv2.imwrite(result_file, img)\n",
    "        \n",
    "def rgbtogray(img):\n",
    "    img = cv2.cvtColor(img, cv2.COLOR_RGB2GRAY)\n",
    "    img = img[..., np.newaxis]\n",
    "    return img"
   ]
  },
  {
   "cell_type": "code",
   "execution_count": 25,
   "metadata": {},
   "outputs": [],
   "source": [
    "def dice_coef_loss(y_true, y_pred):\n",
    "    return 1-dice_coef(y_true, y_pred)"
   ]
  },
  {
   "cell_type": "code",
   "execution_count": 26,
   "metadata": {},
   "outputs": [
    {
     "name": "stdout",
     "output_type": "stream",
     "text": [
      "__________________________________________________________________________________________________\n",
      "Layer (type)                    Output Shape         Param #     Connected to                     \n",
      "==================================================================================================\n",
      "input_2 (InputLayer)            (None, 512, 512, 1)  0                                            \n",
      "__________________________________________________________________________________________________\n",
      "conv2d_20 (Conv2D)              (None, 512, 512, 32) 320         input_2[0][0]                    \n",
      "__________________________________________________________________________________________________\n",
      "conv2d_21 (Conv2D)              (None, 512, 512, 32) 9248        conv2d_20[0][0]                  \n",
      "__________________________________________________________________________________________________\n",
      "max_pooling2d_5 (MaxPooling2D)  (None, 256, 256, 32) 0           conv2d_21[0][0]                  \n",
      "__________________________________________________________________________________________________\n",
      "conv2d_22 (Conv2D)              (None, 256, 256, 64) 18496       max_pooling2d_5[0][0]            \n",
      "__________________________________________________________________________________________________\n",
      "conv2d_23 (Conv2D)              (None, 256, 256, 64) 36928       conv2d_22[0][0]                  \n",
      "__________________________________________________________________________________________________\n",
      "max_pooling2d_6 (MaxPooling2D)  (None, 128, 128, 64) 0           conv2d_23[0][0]                  \n",
      "__________________________________________________________________________________________________\n",
      "conv2d_24 (Conv2D)              (None, 128, 128, 128 73856       max_pooling2d_6[0][0]            \n",
      "__________________________________________________________________________________________________\n",
      "conv2d_25 (Conv2D)              (None, 128, 128, 128 147584      conv2d_24[0][0]                  \n",
      "__________________________________________________________________________________________________\n",
      "max_pooling2d_7 (MaxPooling2D)  (None, 64, 64, 128)  0           conv2d_25[0][0]                  \n",
      "__________________________________________________________________________________________________\n",
      "conv2d_26 (Conv2D)              (None, 64, 64, 256)  295168      max_pooling2d_7[0][0]            \n",
      "__________________________________________________________________________________________________\n",
      "conv2d_27 (Conv2D)              (None, 64, 64, 256)  590080      conv2d_26[0][0]                  \n",
      "__________________________________________________________________________________________________\n",
      "max_pooling2d_8 (MaxPooling2D)  (None, 32, 32, 256)  0           conv2d_27[0][0]                  \n",
      "__________________________________________________________________________________________________\n",
      "conv2d_28 (Conv2D)              (None, 32, 32, 512)  1180160     max_pooling2d_8[0][0]            \n",
      "__________________________________________________________________________________________________\n",
      "conv2d_29 (Conv2D)              (None, 32, 32, 512)  2359808     conv2d_28[0][0]                  \n",
      "__________________________________________________________________________________________________\n",
      "conv2d_transpose_5 (Conv2DTrans (None, 64, 64, 256)  524544      conv2d_29[0][0]                  \n",
      "__________________________________________________________________________________________________\n",
      "concatenate_5 (Concatenate)     (None, 64, 64, 512)  0           conv2d_transpose_5[0][0]         \n",
      "                                                                 conv2d_27[0][0]                  \n",
      "__________________________________________________________________________________________________\n",
      "conv2d_30 (Conv2D)              (None, 64, 64, 256)  1179904     concatenate_5[0][0]              \n",
      "__________________________________________________________________________________________________\n",
      "conv2d_31 (Conv2D)              (None, 64, 64, 256)  590080      conv2d_30[0][0]                  \n",
      "__________________________________________________________________________________________________\n",
      "conv2d_transpose_6 (Conv2DTrans (None, 128, 128, 128 131200      conv2d_31[0][0]                  \n",
      "__________________________________________________________________________________________________\n",
      "concatenate_6 (Concatenate)     (None, 128, 128, 256 0           conv2d_transpose_6[0][0]         \n",
      "                                                                 conv2d_25[0][0]                  \n",
      "__________________________________________________________________________________________________\n",
      "conv2d_32 (Conv2D)              (None, 128, 128, 128 295040      concatenate_6[0][0]              \n",
      "__________________________________________________________________________________________________\n",
      "conv2d_33 (Conv2D)              (None, 128, 128, 128 147584      conv2d_32[0][0]                  \n",
      "__________________________________________________________________________________________________\n",
      "conv2d_transpose_7 (Conv2DTrans (None, 256, 256, 64) 32832       conv2d_33[0][0]                  \n",
      "__________________________________________________________________________________________________\n",
      "concatenate_7 (Concatenate)     (None, 256, 256, 128 0           conv2d_transpose_7[0][0]         \n",
      "                                                                 conv2d_23[0][0]                  \n",
      "__________________________________________________________________________________________________\n",
      "conv2d_34 (Conv2D)              (None, 256, 256, 64) 73792       concatenate_7[0][0]              \n",
      "__________________________________________________________________________________________________\n",
      "conv2d_35 (Conv2D)              (None, 256, 256, 64) 36928       conv2d_34[0][0]                  \n",
      "__________________________________________________________________________________________________\n",
      "conv2d_transpose_8 (Conv2DTrans (None, 512, 512, 32) 8224        conv2d_35[0][0]                  \n",
      "__________________________________________________________________________________________________\n",
      "concatenate_8 (Concatenate)     (None, 512, 512, 64) 0           conv2d_transpose_8[0][0]         \n",
      "                                                                 conv2d_21[0][0]                  \n",
      "__________________________________________________________________________________________________\n",
      "conv2d_36 (Conv2D)              (None, 512, 512, 32) 18464       concatenate_8[0][0]              \n",
      "__________________________________________________________________________________________________\n",
      "conv2d_37 (Conv2D)              (None, 512, 512, 32) 9248        conv2d_36[0][0]                  \n",
      "__________________________________________________________________________________________________\n",
      "conv2d_38 (Conv2D)              (None, 512, 512, 1)  33          conv2d_37[0][0]                  \n",
      "==================================================================================================\n",
      "Total params: 7,759,521\n",
      "Trainable params: 7,759,521\n",
      "Non-trainable params: 0\n",
      "__________________________________________________________________________________________________\n"
     ]
    }
   ],
   "source": [
    "model = unet(input_size=(512,512,1))\n",
    "model.compile(optimizer=Adam(lr=1e-5), loss=dice_coef_loss,\n",
    "                  metrics=[dice_coef, 'binary_accuracy'])\n",
    "model.summary()\n",
    "\n",
    "model_checkpoint = ModelCheckpoint('unet_lung_seg.hdf5', \n",
    "                                   monitor='loss', \n",
    "                                   verbose=1, \n",
    "                                   save_best_only=True)"
   ]
  },
  {
   "cell_type": "code",
   "execution_count": 27,
   "metadata": {},
   "outputs": [],
   "source": [
    "def getValData(image_color_mode=\"grayscale\",\n",
    "        mask_color_mode=\"grayscale\",\n",
    "        image_save_prefix=\"image\",\n",
    "        mask_save_prefix=\"mask\",\n",
    "        save_to_dir=None,\n",
    "        target_size=(IMG_WIDTH,IMG_HEIGHT),\n",
    "        seed=1):\n",
    "    \n",
    "    image_datagen = ImageDataGenerator(\n",
    "        rescale=1./255,\n",
    "        shear_range=0.2,\n",
    "        zoom_range=0.2,\n",
    "        horizontal_flip=True)\n",
    "    \n",
    "    mask_datagen = ImageDataGenerator(\n",
    "        rescale=1./255,\n",
    "        shear_range=0.2,\n",
    "        zoom_range=0.2,\n",
    "        horizontal_flip=True\n",
    "    )\n",
    "    \n",
    "    train_image_generator = image_datagen.flow_from_directory(\n",
    "    TEST_FRAME_PATH,\n",
    "    target_size=(IMG_WIDTH, IMG_HEIGHT),\n",
    "    class_mode=None,\n",
    "    color_mode='grayscale',\n",
    "    batch_size = BATCH_SIZE)\n",
    "\n",
    "    train_mask_generator = mask_datagen.flow_from_directory(\n",
    "    TEST_MASK_PATH,\n",
    "    target_size=(IMG_WIDTH, IMG_HEIGHT),\n",
    "    class_mode=None,\n",
    "    color_mode='grayscale',\n",
    "    batch_size = BATCH_SIZE)\n",
    "    \n",
    "    train_gen = zip(train_image_generator, train_mask_generator)\n",
    "    \n",
    "    for (img, mask) in train_gen:\n",
    "        img, mask = adjust_data(img, mask)\n",
    "        yield (img, mask)"
   ]
  },
  {
   "cell_type": "code",
   "execution_count": 28,
   "metadata": {},
   "outputs": [
    {
     "data": {
      "text/plain": [
       "'C:\\\\Users\\\\Wojtek\\\\Documents\\\\Deep Learning Projects\\\\Chest_Xray\\\\dataset\\\\MontgomerySet\\\\train_frames'"
      ]
     },
     "execution_count": 28,
     "metadata": {},
     "output_type": "execute_result"
    }
   ],
   "source": [
    "TRAIN_FRAME_PATH"
   ]
  },
  {
   "cell_type": "code",
   "execution_count": 29,
   "metadata": {},
   "outputs": [],
   "source": [
    "def getTrainData(image_color_mode=\"grayscale\",\n",
    "        mask_color_mode=\"grayscale\",\n",
    "        image_save_prefix=\"image\",\n",
    "        mask_save_prefix=\"mask\",\n",
    "        save_to_dir=None,\n",
    "        target_size=(IMG_WIDTH,IMG_HEIGHT),\n",
    "        seed=1):\n",
    "    \n",
    "    image_datagen = ImageDataGenerator(\n",
    "        rescale=1./255,\n",
    "        shear_range=0.2,\n",
    "        zoom_range=0.2,\n",
    "        horizontal_flip=True)\n",
    "    \n",
    "    mask_datagen = ImageDataGenerator(\n",
    "        rescale=1./255,\n",
    "        shear_range=0.2,\n",
    "        zoom_range=0.2,\n",
    "        horizontal_flip=True\n",
    "    )\n",
    "    \n",
    "    train_image_generator = image_datagen.flow_from_directory(\n",
    "    TRAIN_FRAME_PATH,\n",
    "    target_size=(IMG_WIDTH, IMG_HEIGHT),\n",
    "    class_mode=None,\n",
    "    color_mode = 'grayscale',\n",
    "    batch_size = BATCH_SIZE,\n",
    "    seed = 1)\n",
    "\n",
    "    train_mask_generator = mask_datagen.flow_from_directory(\n",
    "    TRAIN_MASK_PATH,\n",
    "    target_size=(IMG_WIDTH, IMG_HEIGHT),\n",
    "    class_mode=None,\n",
    "    color_mode = 'grayscale',\n",
    "    batch_size = BATCH_SIZE,\n",
    "    seed = 1)\n",
    "    \n",
    "    train_gen = zip(train_image_generator, train_mask_generator)\n",
    "    \n",
    "    for (img, mask) in train_gen:\n",
    "        #img, mask = adjust_data(img, mask)\n",
    "        yield (img, mask)\n",
    "        \n",
    "def adjust_data(img,mask):\n",
    "    img = img / 255\n",
    "    mask = mask / 255\n",
    "    mask[mask > 0.5] = 1\n",
    "    mask[mask <= 0.5] = 0\n",
    "    \n",
    "    return (img, mask)"
   ]
  },
  {
   "cell_type": "code",
   "execution_count": 30,
   "metadata": {},
   "outputs": [],
   "source": [
    "train_gen = getTrainData()"
   ]
  },
  {
   "cell_type": "code",
   "execution_count": 31,
   "metadata": {},
   "outputs": [
    {
     "name": "stdout",
     "output_type": "stream",
     "text": [
      "Found 96 images belonging to 1 classes.\n",
      "Found 96 images belonging to 1 classes.\n"
     ]
    }
   ],
   "source": [
    "a, b = next(train_gen)\n",
    "image = a[5,:,:,:]\n",
    "mask = b[5,:,:,:]"
   ]
  },
  {
   "cell_type": "code",
   "execution_count": 32,
   "metadata": {},
   "outputs": [
    {
     "data": {
      "text/plain": [
       "<matplotlib.image.AxesImage at 0x14ae6417198>"
      ]
     },
     "execution_count": 32,
     "metadata": {},
     "output_type": "execute_result"
    },
    {
     "data": {
      "image/png": "[encoded data removed]",
      "text/plain": [
       "<Figure size 432x288 with 2 Axes>"
      ]
     },
     "metadata": {
      "needs_background": "light"
     },
     "output_type": "display_data"
    }
   ],
   "source": [
    "plt.subplot(1,2,1)\n",
    "plt.imshow(image[:,:,0], cmap=\"bone\")\n",
    "plt.subplot(1,2,2)\n",
    "plt.imshow(mask[:,:,0], cmap=\"bone\")"
   ]
  },
  {
   "cell_type": "code",
   "execution_count": 33,
   "metadata": {},
   "outputs": [
    {
     "name": "stdout",
     "output_type": "stream",
     "text": [
      "Epoch 1/40\n",
      "Found 42 images belonging to 1 classes.\n",
      "Found 96 images belonging to 1 classes.\n",
      "Found 42 images belonging to 1 classes.\n",
      "Found 96 images belonging to 1 classes.\n",
      "8/8 [==============================] - 16s 2s/step - loss: 0.6496 - dice_coef: 0.3504 - binary_accuracy: 0.5757 - val_loss: 1.0000 - val_dice_coef: 9.5344e-07 - val_binary_accuracy: 0.0000e+00\n",
      "\n",
      "Epoch 00001: loss improved from inf to 0.64957, saving model to unet_lung_seg.hdf5\n",
      "Epoch 2/40\n",
      "8/8 [==============================] - 9s 1s/step - loss: 0.6609 - dice_coef: 0.3391 - binary_accuracy: 0.5365 - val_loss: 1.0000 - val_dice_coef: 9.5326e-07 - val_binary_accuracy: 0.0000e+00\n",
      "\n",
      "Epoch 00002: loss did not improve from 0.64957\n",
      "Epoch 3/40\n",
      "8/8 [==============================] - 13s 2s/step - loss: 0.6641 - dice_coef: 0.3359 - binary_accuracy: 0.5022 - val_loss: 1.0000 - val_dice_coef: 1.5250e-06 - val_binary_accuracy: 0.0000e+00\n",
      "\n",
      "Epoch 00003: loss did not improve from 0.64957\n",
      "Epoch 4/40\n",
      "8/8 [==============================] - 11s 1s/step - loss: 0.6544 - dice_coef: 0.3456 - binary_accuracy: 0.4973 - val_loss: 1.0000 - val_dice_coef: 9.5296e-07 - val_binary_accuracy: 0.0000e+00\n",
      "\n",
      "Epoch 00004: loss did not improve from 0.64957\n",
      "Epoch 5/40\n",
      "8/8 [==============================] - 12s 1s/step - loss: 0.6597 - dice_coef: 0.3403 - binary_accuracy: 0.4352 - val_loss: 1.0000 - val_dice_coef: 9.5284e-07 - val_binary_accuracy: 0.0000e+00\n",
      "\n",
      "Epoch 00005: loss did not improve from 0.64957\n",
      "Epoch 6/40\n",
      "8/8 [==============================] - 12s 1s/step - loss: 0.6489 - dice_coef: 0.3511 - binary_accuracy: 0.3378 - val_loss: 1.0000 - val_dice_coef: 1.5243e-06 - val_binary_accuracy: 0.0000e+00\n",
      "\n",
      "Epoch 00006: loss improved from 0.64957 to 0.64887, saving model to unet_lung_seg.hdf5\n",
      "Epoch 7/40\n",
      "8/8 [==============================] - 12s 1s/step - loss: 0.6525 - dice_coef: 0.3475 - binary_accuracy: 0.2747 - val_loss: 1.0000 - val_dice_coef: 9.5256e-07 - val_binary_accuracy: 0.0000e+00\n",
      "\n",
      "Epoch 00007: loss did not improve from 0.64887\n",
      "Epoch 8/40\n",
      "8/8 [==============================] - 12s 1s/step - loss: 0.6521 - dice_coef: 0.3479 - binary_accuracy: 0.2707 - val_loss: 1.0000 - val_dice_coef: 9.5244e-07 - val_binary_accuracy: 0.0000e+00\n",
      "\n",
      "Epoch 00008: loss did not improve from 0.64887\n",
      "Epoch 9/40\n",
      "8/8 [==============================] - 12s 1s/step - loss: 0.6500 - dice_coef: 0.3500 - binary_accuracy: 0.2720 - val_loss: 1.0000 - val_dice_coef: 1.5237e-06 - val_binary_accuracy: 0.0000e+00\n",
      "\n",
      "Epoch 00009: loss did not improve from 0.64887\n",
      "Epoch 10/40\n",
      "8/8 [==============================] - 12s 2s/step - loss: 0.6510 - dice_coef: 0.3490 - binary_accuracy: 0.2692 - val_loss: 1.0000 - val_dice_coef: 9.5215e-07 - val_binary_accuracy: 0.0000e+00\n",
      "\n",
      "Epoch 00010: loss did not improve from 0.64887\n",
      "Epoch 11/40\n",
      "8/8 [==============================] - 12s 1s/step - loss: 0.6480 - dice_coef: 0.3520 - binary_accuracy: 0.2716 - val_loss: 1.0000 - val_dice_coef: 9.5204e-07 - val_binary_accuracy: 0.0000e+00\n",
      "\n",
      "Epoch 00011: loss improved from 0.64887 to 0.64798, saving model to unet_lung_seg.hdf5\n",
      "Epoch 12/40\n",
      "8/8 [==============================] - 12s 1s/step - loss: 0.6494 - dice_coef: 0.3506 - binary_accuracy: 0.2692 - val_loss: 1.0000 - val_dice_coef: 1.5230e-06 - val_binary_accuracy: 0.0000e+00\n",
      "\n",
      "Epoch 00012: loss did not improve from 0.64798\n",
      "Epoch 13/40\n",
      "8/8 [==============================] - 12s 2s/step - loss: 0.6457 - dice_coef: 0.3543 - binary_accuracy: 0.2724 - val_loss: 1.0000 - val_dice_coef: 9.5170e-07 - val_binary_accuracy: 0.0000e+00\n",
      "\n",
      "Epoch 00013: loss improved from 0.64798 to 0.64573, saving model to unet_lung_seg.hdf5\n",
      "Epoch 14/40\n",
      "8/8 [==============================] - 12s 1s/step - loss: 0.6528 - dice_coef: 0.3472 - binary_accuracy: 0.2635 - val_loss: 1.0000 - val_dice_coef: 9.5159e-07 - val_binary_accuracy: 0.0000e+00\n",
      "\n",
      "Epoch 00014: loss did not improve from 0.64573\n",
      "Epoch 15/40\n",
      "8/8 [==============================] - 12s 1s/step - loss: 0.6554 - dice_coef: 0.3446 - binary_accuracy: 0.2606 - val_loss: 1.0000 - val_dice_coef: 1.5223e-06 - val_binary_accuracy: 0.0000e+00\n",
      "\n",
      "Epoch 00015: loss did not improve from 0.64573\n",
      "Epoch 16/40\n",
      "8/8 [==============================] - 12s 2s/step - loss: 0.6512 - dice_coef: 0.3488 - binary_accuracy: 0.2649 - val_loss: 1.0000 - val_dice_coef: 9.5125e-07 - val_binary_accuracy: 0.0000e+00\n",
      "\n",
      "Epoch 00016: loss did not improve from 0.64573\n",
      "Epoch 17/40\n",
      "8/8 [==============================] - 12s 1s/step - loss: 0.6549 - dice_coef: 0.3451 - binary_accuracy: 0.2598 - val_loss: 1.0000 - val_dice_coef: 9.5099e-07 - val_binary_accuracy: 0.0000e+00\n",
      "\n",
      "Epoch 00017: loss did not improve from 0.64573\n",
      "Epoch 18/40\n",
      "8/8 [==============================] - 12s 1s/step - loss: 0.6398 - dice_coef: 0.3602 - binary_accuracy: 0.2763 - val_loss: 1.0000 - val_dice_coef: 1.5210e-06 - val_binary_accuracy: 0.0000e+00\n",
      "\n",
      "Epoch 00018: loss improved from 0.64573 to 0.63981, saving model to unet_lung_seg.hdf5\n",
      "Epoch 19/40\n",
      "8/8 [==============================] - 12s 2s/step - loss: 0.6501 - dice_coef: 0.3499 - binary_accuracy: 0.2625 - val_loss: 1.0000 - val_dice_coef: 9.5007e-07 - val_binary_accuracy: 0.0000e+00\n",
      "\n",
      "Epoch 00019: loss did not improve from 0.63981\n",
      "Epoch 20/40\n",
      "8/8 [==============================] - 12s 1s/step - loss: 0.6536 - dice_coef: 0.3464 - binary_accuracy: 0.2576 - val_loss: 1.0000 - val_dice_coef: 9.4927e-07 - val_binary_accuracy: 0.0000e+00\n",
      "\n",
      "Epoch 00020: loss did not improve from 0.63981\n",
      "Epoch 21/40\n",
      "8/8 [==============================] - 12s 1s/step - loss: 0.6466 - dice_coef: 0.3534 - binary_accuracy: 0.2638 - val_loss: 1.0000 - val_dice_coef: 1.5169e-06 - val_binary_accuracy: 0.0000e+00\n",
      "\n",
      "Epoch 00021: loss did not improve from 0.63981\n",
      "Epoch 22/40\n",
      "8/8 [==============================] - 12s 2s/step - loss: 0.6476 - dice_coef: 0.3524 - binary_accuracy: 0.2610 - val_loss: 1.0000 - val_dice_coef: 9.4618e-07 - val_binary_accuracy: 0.0000e+00\n",
      "\n",
      "Epoch 00022: loss did not improve from 0.63981\n",
      "Epoch 23/40\n",
      "8/8 [==============================] - 12s 2s/step - loss: 0.6479 - dice_coef: 0.3521 - binary_accuracy: 0.2594 - val_loss: 1.0000 - val_dice_coef: 9.4265e-07 - val_binary_accuracy: 0.0000e+00\n",
      "\n",
      "Epoch 00023: loss did not improve from 0.63981\n",
      "Epoch 24/40\n",
      "8/8 [==============================] - 12s 1s/step - loss: 0.6456 - dice_coef: 0.3544 - binary_accuracy: 0.2649 - val_loss: 1.0000 - val_dice_coef: 1.4986e-06 - val_binary_accuracy: 0.0000e+00\n",
      "\n",
      "Epoch 00024: loss did not improve from 0.63981\n",
      "Epoch 25/40\n",
      "8/8 [==============================] - 12s 2s/step - loss: 0.6394 - dice_coef: 0.3606 - binary_accuracy: 0.2999 - val_loss: 1.0000 - val_dice_coef: 9.2512e-07 - val_binary_accuracy: 0.0000e+00\n",
      "\n",
      "Epoch 00025: loss improved from 0.63981 to 0.63936, saving model to unet_lung_seg.hdf5\n",
      "Epoch 26/40\n",
      "8/8 [==============================] - 12s 1s/step - loss: 0.6212 - dice_coef: 0.3788 - binary_accuracy: 0.4023 - val_loss: 1.0000 - val_dice_coef: 9.0326e-07 - val_binary_accuracy: 0.0000e+00\n",
      "\n",
      "Epoch 00026: loss improved from 0.63936 to 0.62125, saving model to unet_lung_seg.hdf5\n",
      "Epoch 27/40\n",
      "8/8 [==============================] - 12s 1s/step - loss: 0.6251 - dice_coef: 0.3749 - binary_accuracy: 0.3875 - val_loss: 1.0000 - val_dice_coef: 1.3824e-06 - val_binary_accuracy: 0.0000e+00\n",
      "\n",
      "Epoch 00027: loss did not improve from 0.62125\n",
      "Epoch 28/40\n",
      "8/8 [==============================] - 12s 2s/step - loss: 0.5962 - dice_coef: 0.4038 - binary_accuracy: 0.3584 - val_loss: 1.0000 - val_dice_coef: 7.9920e-07 - val_binary_accuracy: 0.0000e+00\n",
      "\n",
      "Epoch 00028: loss improved from 0.62125 to 0.59619, saving model to unet_lung_seg.hdf5\n",
      "Epoch 29/40\n",
      "8/8 [==============================] - 12s 1s/step - loss: 0.5389 - dice_coef: 0.4611 - binary_accuracy: 0.5240 - val_loss: 1.0000 - val_dice_coef: 7.2416e-07 - val_binary_accuracy: 0.0000e+00\n",
      "\n",
      "Epoch 00029: loss improved from 0.59619 to 0.53890, saving model to unet_lung_seg.hdf5\n",
      "Epoch 30/40\n",
      "8/8 [==============================] - 12s 1s/step - loss: 0.5110 - dice_coef: 0.4890 - binary_accuracy: 0.5209 - val_loss: 1.0000 - val_dice_coef: 1.1731e-06 - val_binary_accuracy: 0.0000e+00\n",
      "\n",
      "Epoch 00030: loss improved from 0.53890 to 0.51102, saving model to unet_lung_seg.hdf5\n",
      "Epoch 31/40\n",
      "8/8 [==============================] - 12s 1s/step - loss: 0.4972 - dice_coef: 0.5028 - binary_accuracy: 0.5743 - val_loss: 1.0000 - val_dice_coef: 9.1143e-07 - val_binary_accuracy: 0.0000e+00\n",
      "\n",
      "Epoch 00031: loss improved from 0.51102 to 0.49716, saving model to unet_lung_seg.hdf5\n",
      "Epoch 32/40\n",
      "8/8 [==============================] - 12s 1s/step - loss: 0.4772 - dice_coef: 0.5228 - binary_accuracy: 0.6532 - val_loss: 1.0000 - val_dice_coef: 9.5048e-07 - val_binary_accuracy: 0.0015\n",
      "\n",
      "Epoch 00032: loss improved from 0.49716 to 0.47716, saving model to unet_lung_seg.hdf5\n",
      "Epoch 33/40\n",
      "8/8 [==============================] - 12s 1s/step - loss: 0.4487 - dice_coef: 0.5513 - binary_accuracy: 0.7374 - val_loss: 1.0000 - val_dice_coef: 1.5309e-06 - val_binary_accuracy: 0.9523\n",
      "\n",
      "Epoch 00033: loss improved from 0.47716 to 0.44871, saving model to unet_lung_seg.hdf5\n",
      "Epoch 34/40\n",
      "8/8 [==============================] - 12s 2s/step - loss: 0.4483 - dice_coef: 0.5517 - binary_accuracy: 0.8121 - val_loss: 1.0000 - val_dice_coef: 9.6167e-07 - val_binary_accuracy: 0.9909\n",
      "\n",
      "Epoch 00034: loss improved from 0.44871 to 0.44826, saving model to unet_lung_seg.hdf5\n",
      "Epoch 35/40\n",
      "8/8 [==============================] - 12s 1s/step - loss: 0.4527 - dice_coef: 0.5473 - binary_accuracy: 0.8646 - val_loss: 1.0000 - val_dice_coef: 9.7171e-07 - val_binary_accuracy: 0.9976\n",
      "\n",
      "Epoch 00035: loss did not improve from 0.44826\n",
      "Epoch 36/40\n",
      "8/8 [==============================] - 12s 1s/step - loss: 0.4152 - dice_coef: 0.5848 - binary_accuracy: 0.8738 - val_loss: 1.0000 - val_dice_coef: 1.5887e-06 - val_binary_accuracy: 0.9998\n",
      "\n",
      "Epoch 00036: loss improved from 0.44826 to 0.41516, saving model to unet_lung_seg.hdf5\n",
      "Epoch 37/40\n",
      "8/8 [==============================] - 12s 1s/step - loss: 0.4084 - dice_coef: 0.5916 - binary_accuracy: 0.8785 - val_loss: 1.0000 - val_dice_coef: 1.0468e-06 - val_binary_accuracy: 1.0000\n",
      "\n",
      "Epoch 00037: loss improved from 0.41516 to 0.40836, saving model to unet_lung_seg.hdf5\n",
      "Epoch 38/40\n",
      "8/8 [==============================] - 12s 1s/step - loss: 0.3456 - dice_coef: 0.6544 - binary_accuracy: 0.8883 - val_loss: 1.0000 - val_dice_coef: 1.2226e-06 - val_binary_accuracy: 1.0000\n",
      "\n",
      "Epoch 00038: loss improved from 0.40836 to 0.34556, saving model to unet_lung_seg.hdf5\n",
      "Epoch 39/40\n",
      "8/8 [==============================] - 12s 1s/step - loss: 0.3103 - dice_coef: 0.6897 - binary_accuracy: 0.8844 - val_loss: 1.0000 - val_dice_coef: 3.4769e-06 - val_binary_accuracy: 1.0000\n",
      "\n",
      "Epoch 00039: loss improved from 0.34556 to 0.31031, saving model to unet_lung_seg.hdf5\n",
      "Epoch 40/40\n",
      "8/8 [==============================] - 12s 2s/step - loss: 0.2439 - dice_coef: 0.7561 - binary_accuracy: 0.8932 - val_loss: 1.0000 - val_dice_coef: 1.2182e-05 - val_binary_accuracy: 1.0000\n",
      "\n",
      "Epoch 00040: loss improved from 0.31031 to 0.24389, saving model to unet_lung_seg.hdf5\n"
     ]
    }
   ],
   "source": [
    "train_gen = getTrainData()\n",
    "val_gen = getValData()\n",
    "\n",
    "history = model.fit_generator(train_gen,\n",
    "                              steps_per_epoch=8,\n",
    "                              epochs=40,\n",
    "                              callbacks=[model_checkpoint], validation_data=val_gen, validation_steps=2)"
   ]
  },
  {
   "cell_type": "code",
   "execution_count": 35,
   "metadata": {},
   "outputs": [
    {
     "name": "stdout",
     "output_type": "stream",
     "text": [
      "Found 42 images belonging to 1 classes.\n",
      "Found 42 images belonging to 1 classes.\n"
     ]
    }
   ],
   "source": [
    "test_datagen = ImageDataGenerator(rescale=1./255)\n",
    "\n",
    "\n",
    "\n",
    "\n",
    "test_image_generator = test_datagen.flow_from_directory(\n",
    "    TEST_FRAME_PATH,\n",
    "    target_size=(IMG_WIDTH, IMG_HEIGHT),\n",
    "    class_mode=None,\n",
    "    batch_size = BATCH_SIZE)\n",
    "\n",
    "\n",
    "test_mask_generator = test_datagen.flow_from_directory(\n",
    "    TEST_MASK_PATH,\n",
    "    target_size=(IMG_WIDTH, IMG_HEIGHT),\n",
    "    class_mode=None,\n",
    "    batch_size = BATCH_SIZE)\n",
    "\n",
    "test_generator = zip(test_image_generator, test_mask_generator)"
   ]
  },
  {
   "cell_type": "code",
   "execution_count": 54,
   "metadata": {},
   "outputs": [],
   "source": [
    "from tqdm import tqdm"
   ]
  },
  {
   "cell_type": "code",
   "execution_count": 55,
   "metadata": {},
   "outputs": [],
   "source": [
    "def get_data(framePath, maskPath, train=True):\n",
    "    ids = next(os.walk(framePath))[2]\n",
    "    X = np.zeros((len(ids), IMG_HEIGHT, IMG_WIDTH, 1), dtype=np.float32)\n",
    "    if train:\n",
    "        y = np.zeros((len(ids), IMG_HEIGHT, IMG_WIDTH, 1), dtype=np.float32)\n",
    "    print('Getting and resizing images ... ')\n",
    "    for n, id_ in tqdm(enumerate(ids), total=len(ids)):\n",
    "        # Load images\n",
    "        img = load_img(os.path.join(framePath, id_), grayscale=True)\n",
    "        x_img = img_to_array(img)\n",
    "        x_img = resize(x_img, (IMG_HEIGHT, IMG_WIDTH, 1), mode='constant', preserve_range=True)\n",
    "\n",
    "        # Load masks\n",
    "        if train:\n",
    "            mask = img_to_array(load_img(os.path.join(maskPath, id_), grayscale=True))\n",
    "            mask = resize(mask, (IMG_HEIGHT, IMG_WIDTH, 1), mode='constant', preserve_range=True)\n",
    "\n",
    "        # Save images\n",
    "        X[n, ..., 0] = x_img.squeeze() / 255\n",
    "        if train:\n",
    "            y[n] = mask / 255\n",
    "    print('Done!')\n",
    "    if train:\n",
    "        return X, y\n",
    "    else:\n",
    "        return X"
   ]
  },
  {
   "cell_type": "code",
   "execution_count": 37,
   "metadata": {},
   "outputs": [],
   "source": [
    "def preprocessImage(image):\n",
    "    image = tf.image.decode_png(image, channels=3)\n",
    "    image = tf.image.resize_images(image, [IMG_HEIGHT, IMG_WIDTH])\n",
    "    image /= 255.0\n",
    "    \n",
    "    return image\n",
    "\n",
    "def loadAndPreprocessImage(path):\n",
    "    image = tf.read_file(path)\n",
    "    return preprocessImage(image)\n",
    "\n",
    "def plotImageLabelPairs(imageLabelDs, numPairs=4):\n",
    "    for i, (image, mask) in enumerate(imageLabelDs.take(numPairs)):\n",
    "        plt.figure(figsize=(8,12))\n",
    "        plt.subplot(4,2,2*i+1)\n",
    "        plt.imshow(image)\n",
    "        plt.grid(False)\n",
    "        plt.xticks([])\n",
    "        plt.yticks([])\n",
    "        plt.subplot(4,2,2*i+2)\n",
    "        plt.imshow(mask)\n",
    "        plt.grid(False)\n",
    "        plt.xticks([])\n",
    "        plt.yticks([])"
   ]
  },
  {
   "cell_type": "code",
   "execution_count": 38,
   "metadata": {},
   "outputs": [],
   "source": [
    "images = [os.path.join(TRAIN_FRAME_PATH, x) for x in os.listdir(TRAIN_FRAME_PATH)]\n",
    "masks = [os.path.join(TRAIN_MASK_PATH, x) for x in os.listdir(TRAIN_MASK_PATH)]\n",
    "\n",
    "valImages = [os.path.join(TRAIN_FRAME_PATH, x) for x in os.listdir(TEST_FRAME_PATH)]\n",
    "valMasks = [os.path.join(TRAIN_MASK_PATH, x) for x in os.listdir(TEST_MASK_PATH)]"
   ]
  },
  {
   "cell_type": "code",
   "execution_count": 40,
   "metadata": {},
   "outputs": [],
   "source": [
    "path_ds = tf.data.Dataset.from_tensor_slices(images)\n",
    "mask_ds = tf.data.Dataset.from_tensor_slices(masks)\n",
    "image_ds = path_ds.map(loadAndPreprocessImage, num_parallel_calls=4)\n",
    "label_ds = mask_ds.map(loadAndPreprocessImage, num_parallel_calls=4)\n",
    "\n",
    "val_path_ds = tf.data.Dataset.from_tensor_slices(valImages)\n",
    "val_mask_ds = tf.data.Dataset.from_tensor_slices(valMasks)\n",
    "val_image_ds = val_path_ds.map(loadAndPreprocessImage, num_parallel_calls=4)\n",
    "val_label_ds = val_mask_ds.map(loadAndPreprocessImage, num_parallel_calls=4)"
   ]
  },
  {
   "cell_type": "code",
   "execution_count": 41,
   "metadata": {},
   "outputs": [],
   "source": [
    "dt_lbl_ds = tf.data.Dataset.zip((image_ds, label_ds))\n",
    "val_dt_lbl_ds = tf.data.Dataset.zip((val_image_ds, val_label_ds))"
   ]
  },
  {
   "cell_type": "code",
   "execution_count": 43,
   "metadata": {},
   "outputs": [
    {
     "data": {
      "text/plain": [
       "'C:\\\\Users\\\\Wojtek\\\\Documents\\\\Deep Learning Projects\\\\Chest_Xray\\\\dataset\\\\MontgomerySet\\\\train_frames'"
      ]
     },
     "execution_count": 43,
     "metadata": {},
     "output_type": "execute_result"
    }
   ],
   "source": [
    "TRAIN_FRAME_PATH"
   ]
  },
  {
   "cell_type": "code",
   "execution_count": 50,
   "metadata": {},
   "outputs": [],
   "source": [
    "random_image_path = 'C:\\\\Users\\\\Wojtek\\\\Documents\\\\Deep Learning Projects\\\\Chest_Xray\\\\dataset\\\\MontgomerySet\\\\train_frames\\\\1\\\\MCUCXR_0023_0.png'"
   ]
  },
  {
   "cell_type": "code",
   "execution_count": 51,
   "metadata": {},
   "outputs": [],
   "source": [
    "image = loadAndPreprocessImage(random_image_path)# getRandomImagePathFrom(os.path.join(TRAIN_FRAME_PATH, \"1\")))"
   ]
  },
  {
   "cell_type": "code",
   "execution_count": 52,
   "metadata": {},
   "outputs": [
    {
     "data": {
      "text/plain": [
       "['1']"
      ]
     },
     "execution_count": 52,
     "metadata": {},
     "output_type": "execute_result"
    }
   ],
   "source": [
    "next(os.walk(TEST_FRAME_PATH))[1]"
   ]
  },
  {
   "cell_type": "code",
   "execution_count": 56,
   "metadata": {},
   "outputs": [
    {
     "name": "stderr",
     "output_type": "stream",
     "text": [
      "  0%|                                                                                           | 0/42 [00:00<?, ?it/s]"
     ]
    },
    {
     "name": "stdout",
     "output_type": "stream",
     "text": [
      "Getting and resizing images ... \n"
     ]
    },
    {
     "name": "stderr",
     "output_type": "stream",
     "text": [
      "c:\\programdata\\anaconda3\\envs\\coray\\lib\\site-packages\\keras_preprocessing\\image\\utils.py:104: UserWarning: grayscale is deprecated. Please use color_mode = \"grayscale\"\n",
      "  warnings.warn('grayscale is deprecated. Please use '\n",
      "100%|██████████████████████████████████████████████████████████████████████████████████| 42/42 [01:10<00:00,  1.67s/it]"
     ]
    },
    {
     "name": "stdout",
     "output_type": "stream",
     "text": [
      "Done!\n"
     ]
    },
    {
     "name": "stderr",
     "output_type": "stream",
     "text": [
      "\n"
     ]
    }
   ],
   "source": [
    "Xt, yt = get_data(TEST_FRAME_PATH+\"\\\\1\", TEST_MASK_PATH+\"\\\\1\", train=True)"
   ]
  },
  {
   "cell_type": "code",
   "execution_count": 57,
   "metadata": {},
   "outputs": [],
   "source": [
    "callbacks = [\n",
    "    EarlyStopping(patience=10, verbose=1),\n",
    "    ReduceLROnPlateau(factor=0.1, patience=3, min_lr=0.00001, verbose=1),\n",
    "    ModelCheckpoint('model-tgs-salt.h5', verbose=1, save_best_only=True, save_weights_only=True)\n",
    "]"
   ]
  },
  {
   "cell_type": "code",
   "execution_count": 58,
   "metadata": {},
   "outputs": [
    {
     "ename": "AttributeError",
     "evalue": "'ZipDataset' object has no attribute 'ndim'",
     "output_type": "error",
     "traceback": [
      "\u001b[1;31m---------------------------------------------------------------------------\u001b[0m",
      "\u001b[1;31mAttributeError\u001b[0m                            Traceback (most recent call last)",
      "\u001b[1;32m<ipython-input-58-e363d0330dd4>\u001b[0m in \u001b[0;36m<module>\u001b[1;34m\u001b[0m\n\u001b[1;32m----> 1\u001b[1;33m \u001b[0mresults\u001b[0m \u001b[1;33m=\u001b[0m \u001b[0mmodel\u001b[0m\u001b[1;33m.\u001b[0m\u001b[0mfit\u001b[0m\u001b[1;33m(\u001b[0m\u001b[0mdt_lbl_ds\u001b[0m\u001b[1;33m,\u001b[0m \u001b[0mepochs\u001b[0m\u001b[1;33m=\u001b[0m\u001b[1;36m100\u001b[0m\u001b[1;33m,\u001b[0m \u001b[0mcallbacks\u001b[0m\u001b[1;33m=\u001b[0m\u001b[0mcallbacks\u001b[0m\u001b[1;33m)\u001b[0m\u001b[1;33m\u001b[0m\u001b[1;33m\u001b[0m\u001b[0m\n\u001b[0m",
      "\u001b[1;32mc:\\programdata\\anaconda3\\envs\\coray\\lib\\site-packages\\keras\\engine\\training.py\u001b[0m in \u001b[0;36mfit\u001b[1;34m(self, x, y, batch_size, epochs, verbose, callbacks, validation_split, validation_data, shuffle, class_weight, sample_weight, initial_epoch, steps_per_epoch, validation_steps, **kwargs)\u001b[0m\n\u001b[0;32m    950\u001b[0m             \u001b[0msample_weight\u001b[0m\u001b[1;33m=\u001b[0m\u001b[0msample_weight\u001b[0m\u001b[1;33m,\u001b[0m\u001b[1;33m\u001b[0m\u001b[1;33m\u001b[0m\u001b[0m\n\u001b[0;32m    951\u001b[0m             \u001b[0mclass_weight\u001b[0m\u001b[1;33m=\u001b[0m\u001b[0mclass_weight\u001b[0m\u001b[1;33m,\u001b[0m\u001b[1;33m\u001b[0m\u001b[1;33m\u001b[0m\u001b[0m\n\u001b[1;32m--> 952\u001b[1;33m             batch_size=batch_size)\n\u001b[0m\u001b[0;32m    953\u001b[0m         \u001b[1;31m# Prepare validation data.\u001b[0m\u001b[1;33m\u001b[0m\u001b[1;33m\u001b[0m\u001b[1;33m\u001b[0m\u001b[0m\n\u001b[0;32m    954\u001b[0m         \u001b[0mdo_validation\u001b[0m \u001b[1;33m=\u001b[0m \u001b[1;32mFalse\u001b[0m\u001b[1;33m\u001b[0m\u001b[1;33m\u001b[0m\u001b[0m\n",
      "\u001b[1;32mc:\\programdata\\anaconda3\\envs\\coray\\lib\\site-packages\\keras\\engine\\training.py\u001b[0m in \u001b[0;36m_standardize_user_data\u001b[1;34m(self, x, y, sample_weight, class_weight, check_array_lengths, batch_size)\u001b[0m\n\u001b[0;32m    749\u001b[0m             \u001b[0mfeed_input_shapes\u001b[0m\u001b[1;33m,\u001b[0m\u001b[1;33m\u001b[0m\u001b[1;33m\u001b[0m\u001b[0m\n\u001b[0;32m    750\u001b[0m             \u001b[0mcheck_batch_axis\u001b[0m\u001b[1;33m=\u001b[0m\u001b[1;32mFalse\u001b[0m\u001b[1;33m,\u001b[0m  \u001b[1;31m# Don't enforce the batch size.\u001b[0m\u001b[1;33m\u001b[0m\u001b[1;33m\u001b[0m\u001b[0m\n\u001b[1;32m--> 751\u001b[1;33m             exception_prefix='input')\n\u001b[0m\u001b[0;32m    752\u001b[0m \u001b[1;33m\u001b[0m\u001b[0m\n\u001b[0;32m    753\u001b[0m         \u001b[1;32mif\u001b[0m \u001b[0my\u001b[0m \u001b[1;32mis\u001b[0m \u001b[1;32mnot\u001b[0m \u001b[1;32mNone\u001b[0m\u001b[1;33m:\u001b[0m\u001b[1;33m\u001b[0m\u001b[1;33m\u001b[0m\u001b[0m\n",
      "\u001b[1;32mc:\\programdata\\anaconda3\\envs\\coray\\lib\\site-packages\\keras\\engine\\training_utils.py\u001b[0m in \u001b[0;36mstandardize_input_data\u001b[1;34m(data, names, shapes, check_batch_axis, exception_prefix)\u001b[0m\n\u001b[0;32m     90\u001b[0m         \u001b[0mdata\u001b[0m \u001b[1;33m=\u001b[0m \u001b[0mdata\u001b[0m\u001b[1;33m.\u001b[0m\u001b[0mvalues\u001b[0m \u001b[1;32mif\u001b[0m \u001b[0mdata\u001b[0m\u001b[1;33m.\u001b[0m\u001b[0m__class__\u001b[0m\u001b[1;33m.\u001b[0m\u001b[0m__name__\u001b[0m \u001b[1;33m==\u001b[0m \u001b[1;34m'DataFrame'\u001b[0m \u001b[1;32melse\u001b[0m \u001b[0mdata\u001b[0m\u001b[1;33m\u001b[0m\u001b[1;33m\u001b[0m\u001b[0m\n\u001b[0;32m     91\u001b[0m         \u001b[0mdata\u001b[0m \u001b[1;33m=\u001b[0m \u001b[1;33m[\u001b[0m\u001b[0mdata\u001b[0m\u001b[1;33m]\u001b[0m\u001b[1;33m\u001b[0m\u001b[1;33m\u001b[0m\u001b[0m\n\u001b[1;32m---> 92\u001b[1;33m     \u001b[0mdata\u001b[0m \u001b[1;33m=\u001b[0m \u001b[1;33m[\u001b[0m\u001b[0mstandardize_single_array\u001b[0m\u001b[1;33m(\u001b[0m\u001b[0mx\u001b[0m\u001b[1;33m)\u001b[0m \u001b[1;32mfor\u001b[0m \u001b[0mx\u001b[0m \u001b[1;32min\u001b[0m \u001b[0mdata\u001b[0m\u001b[1;33m]\u001b[0m\u001b[1;33m\u001b[0m\u001b[1;33m\u001b[0m\u001b[0m\n\u001b[0m\u001b[0;32m     93\u001b[0m \u001b[1;33m\u001b[0m\u001b[0m\n\u001b[0;32m     94\u001b[0m     \u001b[1;32mif\u001b[0m \u001b[0mlen\u001b[0m\u001b[1;33m(\u001b[0m\u001b[0mdata\u001b[0m\u001b[1;33m)\u001b[0m \u001b[1;33m!=\u001b[0m \u001b[0mlen\u001b[0m\u001b[1;33m(\u001b[0m\u001b[0mnames\u001b[0m\u001b[1;33m)\u001b[0m\u001b[1;33m:\u001b[0m\u001b[1;33m\u001b[0m\u001b[1;33m\u001b[0m\u001b[0m\n",
      "\u001b[1;32mc:\\programdata\\anaconda3\\envs\\coray\\lib\\site-packages\\keras\\engine\\training_utils.py\u001b[0m in \u001b[0;36m<listcomp>\u001b[1;34m(.0)\u001b[0m\n\u001b[0;32m     90\u001b[0m         \u001b[0mdata\u001b[0m \u001b[1;33m=\u001b[0m \u001b[0mdata\u001b[0m\u001b[1;33m.\u001b[0m\u001b[0mvalues\u001b[0m \u001b[1;32mif\u001b[0m \u001b[0mdata\u001b[0m\u001b[1;33m.\u001b[0m\u001b[0m__class__\u001b[0m\u001b[1;33m.\u001b[0m\u001b[0m__name__\u001b[0m \u001b[1;33m==\u001b[0m \u001b[1;34m'DataFrame'\u001b[0m \u001b[1;32melse\u001b[0m \u001b[0mdata\u001b[0m\u001b[1;33m\u001b[0m\u001b[1;33m\u001b[0m\u001b[0m\n\u001b[0;32m     91\u001b[0m         \u001b[0mdata\u001b[0m \u001b[1;33m=\u001b[0m \u001b[1;33m[\u001b[0m\u001b[0mdata\u001b[0m\u001b[1;33m]\u001b[0m\u001b[1;33m\u001b[0m\u001b[1;33m\u001b[0m\u001b[0m\n\u001b[1;32m---> 92\u001b[1;33m     \u001b[0mdata\u001b[0m \u001b[1;33m=\u001b[0m \u001b[1;33m[\u001b[0m\u001b[0mstandardize_single_array\u001b[0m\u001b[1;33m(\u001b[0m\u001b[0mx\u001b[0m\u001b[1;33m)\u001b[0m \u001b[1;32mfor\u001b[0m \u001b[0mx\u001b[0m \u001b[1;32min\u001b[0m \u001b[0mdata\u001b[0m\u001b[1;33m]\u001b[0m\u001b[1;33m\u001b[0m\u001b[1;33m\u001b[0m\u001b[0m\n\u001b[0m\u001b[0;32m     93\u001b[0m \u001b[1;33m\u001b[0m\u001b[0m\n\u001b[0;32m     94\u001b[0m     \u001b[1;32mif\u001b[0m \u001b[0mlen\u001b[0m\u001b[1;33m(\u001b[0m\u001b[0mdata\u001b[0m\u001b[1;33m)\u001b[0m \u001b[1;33m!=\u001b[0m \u001b[0mlen\u001b[0m\u001b[1;33m(\u001b[0m\u001b[0mnames\u001b[0m\u001b[1;33m)\u001b[0m\u001b[1;33m:\u001b[0m\u001b[1;33m\u001b[0m\u001b[1;33m\u001b[0m\u001b[0m\n",
      "\u001b[1;32mc:\\programdata\\anaconda3\\envs\\coray\\lib\\site-packages\\keras\\engine\\training_utils.py\u001b[0m in \u001b[0;36mstandardize_single_array\u001b[1;34m(x)\u001b[0m\n\u001b[0;32m     25\u001b[0m                 'Got tensor with shape: %s' % str(shape))\n\u001b[0;32m     26\u001b[0m         \u001b[1;32mreturn\u001b[0m \u001b[0mx\u001b[0m\u001b[1;33m\u001b[0m\u001b[1;33m\u001b[0m\u001b[0m\n\u001b[1;32m---> 27\u001b[1;33m     \u001b[1;32melif\u001b[0m \u001b[0mx\u001b[0m\u001b[1;33m.\u001b[0m\u001b[0mndim\u001b[0m \u001b[1;33m==\u001b[0m \u001b[1;36m1\u001b[0m\u001b[1;33m:\u001b[0m\u001b[1;33m\u001b[0m\u001b[1;33m\u001b[0m\u001b[0m\n\u001b[0m\u001b[0;32m     28\u001b[0m         \u001b[0mx\u001b[0m \u001b[1;33m=\u001b[0m \u001b[0mnp\u001b[0m\u001b[1;33m.\u001b[0m\u001b[0mexpand_dims\u001b[0m\u001b[1;33m(\u001b[0m\u001b[0mx\u001b[0m\u001b[1;33m,\u001b[0m \u001b[1;36m1\u001b[0m\u001b[1;33m)\u001b[0m\u001b[1;33m\u001b[0m\u001b[1;33m\u001b[0m\u001b[0m\n\u001b[0;32m     29\u001b[0m     \u001b[1;32mreturn\u001b[0m \u001b[0mx\u001b[0m\u001b[1;33m\u001b[0m\u001b[1;33m\u001b[0m\u001b[0m\n",
      "\u001b[1;31mAttributeError\u001b[0m: 'ZipDataset' object has no attribute 'ndim'"
     ]
    }
   ],
   "source": [
    "results = model.fit(dt_lbl_ds, epochs=100, callbacks=callbacks)"
   ]
  },
  {
   "cell_type": "code",
   "execution_count": 59,
   "metadata": {},
   "outputs": [
    {
     "ename": "NameError",
     "evalue": "name 'results' is not defined",
     "output_type": "error",
     "traceback": [
      "\u001b[1;31m---------------------------------------------------------------------------\u001b[0m",
      "\u001b[1;31mNameError\u001b[0m                                 Traceback (most recent call last)",
      "\u001b[1;32m<ipython-input-59-e887321c12ca>\u001b[0m in \u001b[0;36m<module>\u001b[1;34m\u001b[0m\n\u001b[1;32m----> 1\u001b[1;33m \u001b[0mresults\u001b[0m\u001b[1;33m.\u001b[0m\u001b[0mvalidation_data\u001b[0m\u001b[1;33m\u001b[0m\u001b[1;33m\u001b[0m\u001b[0m\n\u001b[0m",
      "\u001b[1;31mNameError\u001b[0m: name 'results' is not defined"
     ]
    }
   ],
   "source": [
    "results.validation_data"
   ]
  },
  {
   "cell_type": "code",
   "execution_count": null,
   "metadata": {},
   "outputs": [],
   "source": [
    "model.load_weights('model-tgs-salt.h5')"
   ]
  },
  {
   "cell_type": "code",
   "execution_count": null,
   "metadata": {},
   "outputs": [],
   "source": [
    "model.evaluate(Xt, yt, verbose=1)"
   ]
  },
  {
   "cell_type": "code",
   "execution_count": 61,
   "metadata": {},
   "outputs": [],
   "source": [
    "Xt = Xt[1:3,:,:,:]\n",
    "yt = yt[1:3,:,:,:]"
   ]
  },
  {
   "cell_type": "code",
   "execution_count": 62,
   "metadata": {},
   "outputs": [
    {
     "name": "stdout",
     "output_type": "stream",
     "text": [
      "2/2 [==============================] - 0s 75ms/step\n",
      "2/2 [==============================] - 0s 37ms/step\n"
     ]
    }
   ],
   "source": [
    "preds_train = model.predict(Xt, verbose=1)\n",
    "preds_val = model.predict(yt, verbose=1)\n",
    "\n",
    "preds_train_t = (preds_train > 0.5).astype(np.uint8)\n",
    "preds_val_t = (preds_val > 0.5).astype(np.uint8)"
   ]
  },
  {
   "cell_type": "code",
   "execution_count": 63,
   "metadata": {},
   "outputs": [],
   "source": [
    "def plot_sample(X, y, preds, binary_preds, ix=None):\n",
    "    if ix is None:\n",
    "        ix = random.randint(0, len(X))\n",
    "\n",
    "    has_mask = y[ix].max() > 0\n",
    "\n",
    "    fig, ax = plt.subplots(1, 4, figsize=(20, 10))\n",
    "    ax[0].imshow(X[ix, ..., 0], cmap='binary')\n",
    "    if has_mask:\n",
    "        ax[0].contour(y[ix].squeeze(), colors=['black', 'white'], levels=[0.5])\n",
    "    ax[0].set_title('RTG')\n",
    "\n",
    "    ax[1].imshow(y[ix].squeeze())\n",
    "    ax[1].set_title('Left Lung')\n",
    "\n",
    "    ax[2].imshow(preds[ix].squeeze(), vmin=0, vmax=1)\n",
    "    if has_mask:\n",
    "        ax[2].contour(y[ix].squeeze(), colors=['black', 'white'], levels=[0.5])\n",
    "    ax[2].set_title('Predicted Lung')\n",
    "    \n",
    "    ax[3].imshow(binary_preds[ix].squeeze(), vmin=0, vmax=1)\n",
    "    if has_mask:\n",
    "        ax[3].contour(y[ix].squeeze(), colors='k', levels=[0.5])\n",
    "    ax[3].set_title('Predicted Lung Binary');"
   ]
  },
  {
   "cell_type": "code",
   "execution_count": 64,
   "metadata": {},
   "outputs": [
    {
     "data": {
      "text/plain": [
       "Text(0.5, 1.0, 'Recognized as binary')"
      ]
     },
     "execution_count": 64,
     "metadata": {},
     "output_type": "execute_result"
    },
    {
     "data": {
      "image/png": "[encoded data removed]",
      "text/plain": [
       "<Figure size 1008x648 with 4 Axes>"
      ]
     },
     "metadata": {
      "needs_background": "light"
     },
     "output_type": "display_data"
    }
   ],
   "source": [
    "plt.figure(figsize=(14,9))\n",
    "plt.subplot(1, 4, 1)\n",
    "plt.imshow(Xt[1,:,:,0], cmap='bone')\n",
    "plt.title(\"X-Ray\")\n",
    "plt.subplot(1, 4, 2)\n",
    "plt.imshow(yt[1,:,:,0], cmap='bone')\n",
    "plt.title(\"Mask\")\n",
    "plt.subplot(1, 4, 3)\n",
    "plt.imshow(preds_train[1,:,:,0], cmap='bone')\n",
    "plt.title(\"Recognized\")\n",
    "plt.subplot(1, 4, 4)\n",
    "plt.imshow(preds_train_t[1,:,:,0], cmap='bone')\n",
    "plt.title(\"Recognized as binary\")"
   ]
  },
  {
   "cell_type": "code",
   "execution_count": 65,
   "metadata": {},
   "outputs": [
    {
     "ename": "NameError",
     "evalue": "name 'X' is not defined",
     "output_type": "error",
     "traceback": [
      "\u001b[1;31m---------------------------------------------------------------------------\u001b[0m",
      "\u001b[1;31mNameError\u001b[0m                                 Traceback (most recent call last)",
      "\u001b[1;32m<ipython-input-65-e3a5162442bc>\u001b[0m in \u001b[0;36m<module>\u001b[1;34m\u001b[0m\n\u001b[1;32m----> 1\u001b[1;33m \u001b[0mplot_sample\u001b[0m\u001b[1;33m(\u001b[0m\u001b[0mX\u001b[0m\u001b[1;33m,\u001b[0m \u001b[0my\u001b[0m\u001b[1;33m,\u001b[0m \u001b[0mpreds_train\u001b[0m\u001b[1;33m,\u001b[0m \u001b[0mpreds_train_t\u001b[0m\u001b[1;33m)\u001b[0m\u001b[1;33m\u001b[0m\u001b[1;33m\u001b[0m\u001b[0m\n\u001b[0m",
      "\u001b[1;31mNameError\u001b[0m: name 'X' is not defined"
     ]
    }
   ],
   "source": [
    "plot_sample(X, y, preds_train, preds_train_t)"
   ]
  },
  {
   "cell_type": "code",
   "execution_count": null,
   "metadata": {},
   "outputs": [],
   "source": []
  },
  {
   "cell_type": "code",
   "execution_count": null,
   "metadata": {},
   "outputs": [],
   "source": []
  },
  {
   "cell_type": "code",
   "execution_count": null,
   "metadata": {},
   "outputs": [],
   "source": []
  },
  {
   "cell_type": "code",
   "execution_count": null,
   "metadata": {},
   "outputs": [],
   "source": []
  },
  {
   "cell_type": "code",
   "execution_count": null,
   "metadata": {},
   "outputs": [],
   "source": []
  }
 ],
 "metadata": {
  "kernelspec": {
   "display_name": "Python 3",
   "language": "python",
   "name": "python3"
  },
  "language_info": {
   "codemirror_mode": {
    "name": "ipython",
    "version": 3
   },
   "file_extension": ".py",
   "mimetype": "text/x-python",
   "name": "python",
   "nbconvert_exporter": "python",
   "pygments_lexer": "ipython3",
   "version": "3.6.10"
  }
 },
 "nbformat": 4,
 "nbformat_minor": 4
}
